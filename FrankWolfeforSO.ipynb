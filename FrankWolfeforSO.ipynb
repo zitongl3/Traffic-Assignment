{
 "cells": [
  {
   "cell_type": "markdown",
   "metadata": {},
   "source": [
    "First, import numpy and scipy library."
   ]
  },
  {
   "cell_type": "code",
   "execution_count": 14,
   "metadata": {},
   "outputs": [],
   "source": [
    "import numpy as np\n",
    "import scipy.optimize as sopt"
   ]
  },
  {
   "cell_type": "markdown",
   "metadata": {},
   "source": [
    "Define the cost function $t(x)$ abd its integration function, which is the objective function of SO. "
   ]
  },
  {
   "cell_type": "code",
   "execution_count": 15,
   "metadata": {},
   "outputs": [],
   "source": [
    "def t(x):\n",
    "    x1, x2, x3 = x\n",
    "    t1 = 10*(1+0.15*(x1/2)**4)\n",
    "    t2 = 20*(1+0.15*(x2/4)**4)\n",
    "    t3 = 25*(1+0.15*(x3/3)**4)\n",
    "    return [t1, t2, t3]\n",
    "\n",
    "def sum_tilde_t(x):\n",
    "    x1, x2, x3 = x\n",
    "    tilde_t1 = 10*(1+0.15*(x1/2)**4)*x1\n",
    "    tilde_t2 = 20*(1+0.15*(x2/4)**4)*x2\n",
    "    tilde_t3 = 25*(1+0.15*(x3/3)**4)*x3\n",
    "    return tilde_t1 + tilde_t2 + tilde_t3"
   ]
  },
  {
   "cell_type": "markdown",
   "metadata": {},
   "source": [
    "Initialize the set of points as the list named guesses. Define the total flow in three routes. "
   ]
  },
  {
   "cell_type": "code",
   "execution_count": 16,
   "metadata": {},
   "outputs": [],
   "source": [
    "guesses = []\n",
    "tot_flow = 10.0"
   ]
  },
  {
   "cell_type": "markdown",
   "metadata": {},
   "source": [
    "Function $step$: contain task for one iteration.\n",
    "1. Define and calulate cost $t(x)$ and objective function $sum\\_tilde\\_t(x)$.\n",
    "2. Find drection $y$: Set the flow direction $y$ to the route with minimum cost. \n",
    "3. Find the step size $\\alpha \\in (0,1)$ \n",
    "    1. Define the objective function after moving as $func$.\n",
    "    2. Define the constraints $con$ to satisfy Total flow conservation and bound $\\alpha \\in (0,1)$.\n",
    "    3. Use $scipy.optimize.minimize$ tool to obtain the value of step size $\\alpha$.\n",
    "5. Update flow as $x^{n+1} = x^n + \\alpha * (y^n-x^n)$\n",
    "6. Do convergence test. If satisfy the convergence test, stop the iteration; if not, enter next iteration. \n"
   ]
  },
  {
   "cell_type": "code",
   "execution_count": 17,
   "metadata": {},
   "outputs": [],
   "source": [
    "def step(i):\n",
    "    print('in step',i+1)\n",
    "    \n",
    "    x = guesses[-1]\n",
    "\n",
    "    t_array = t(x)\n",
    "    Z = sum_tilde_t(x)\n",
    "    \n",
    "    print('\\tUpdate \\t\\tt\\t', np.round(t_array,decimals=3), '\\tZ(x)\\t', np.round(Z,decimals=2))\n",
    "    \n",
    "    # find y with min t\n",
    "    y_index = np.argmin(t_array)\n",
    "    y = np.array([0.0, 0.0, 0.0])\n",
    "    y[y_index] = tot_flow\n",
    "\n",
    "    print('\\tDirection \\ty\\t', np.round(y,decimals=2))\n",
    "\n",
    "    # objective function to minimize\n",
    "    def func(alpha):\n",
    "        return sum_tilde_t(x+alpha*(y-x))\n",
    "\n",
    "    # constrain: sum of flow equals to total flow\n",
    "    def con(alpha):\n",
    "        return np.sum(x+alpha*(y-x)) - tot_flow\n",
    "    \n",
    "    cons = {'type':'eq', 'fun': con}\n",
    "    \n",
    "    # find alpha that minimize objective function\n",
    "    alpha = np.array([0.0, 0.0, 0.0])\n",
    "    bounds = [(0,1) for i in range(3)]\n",
    "    res = sopt.minimize(func, alpha, bounds=bounds, constraints=cons)\n",
    "    alpha = res.x\n",
    "    print('\\tStep \\t\\talpha\\t', np.round(alpha,decimals=3))\n",
    "\n",
    "    # update x\n",
    "    next_guess = x + alpha * (y-x)\n",
    "    guesses.append(next_guess)\n",
    "    print('\\tMove \\t\\tx\\t', np.round(next_guess,decimals=3))\n",
    "    "
   ]
  },
  {
   "cell_type": "code",
   "execution_count": 18,
   "metadata": {},
   "outputs": [],
   "source": [
    "def Converge_test(guesses):\n",
    "    delta = 0.01\n",
    "    x_01, x_11, x_21 = guesses[-2]\n",
    "    x_02, x_12, x_22 = guesses[-1]\n",
    "    temp = np.sqrt((x_02-x_01)**2 + (x_11-x_12)**2 + (x_21-x_22)**2)/(x_01+x_11+x_12)\n",
    "    return True if (temp < delta) else False"
   ]
  },
  {
   "cell_type": "markdown",
   "metadata": {},
   "source": [
    "main function to solve the Frank Wolfe for SO problem. "
   ]
  },
  {
   "cell_type": "code",
   "execution_count": 19,
   "metadata": {},
   "outputs": [
    {
     "name": "stdout",
     "output_type": "stream",
     "text": [
      "Init Guesses\t\tx\t [10.  0.  0.]\n",
      "in step 1\n",
      "\tUpdate \t\tt\t [947.5  20.   25. ] \tZ(x)\t 9475.0\n",
      "\tDirection \ty\t [ 0. 10.  0.]\n",
      "\tStep \t\talpha\t [0.621 0.621 0.   ]\n",
      "\tMove \t\tx\t [3.793 6.207 0.   ]\n",
      "in step 2\n",
      "\tUpdate \t\tt\t [29.398 37.398 25.   ] \tZ(x)\t 343.64\n",
      "\tDirection \ty\t [ 0.  0. 10.]\n",
      "\tStep \t\talpha\t [0.252 0.305 0.285]\n",
      "\tMove \t\tx\t [2.835 4.314 2.851]\n",
      "in step 3\n",
      "\tUpdate \t\tt\t [16.058 24.058 28.058] \tZ(x)\t 229.3\n",
      "\tDirection \ty\t [10.  0.  0.]\n",
      "\tStep \t\talpha\t [0. 0. 0.]\n",
      "\tMove \t\tx\t [2.835 4.314 2.851]\n"
     ]
    }
   ],
   "source": [
    "if __name__ == '__main__':\n",
    "    guesses = [np.array([10.0, 0.0, 0.0])]\n",
    "    print('Init Guesses\\t\\tx\\t',guesses[0])\n",
    "\n",
    "    for i in range(3):\n",
    "        step(i)\n",
    "        if Converge_test == True:\n",
    "            break\n",
    "    "
   ]
  }
 ],
 "metadata": {
  "kernelspec": {
   "display_name": "Python 3.8.8 ('base')",
   "language": "python",
   "name": "python3"
  },
  "language_info": {
   "codemirror_mode": {
    "name": "ipython",
    "version": 3
   },
   "file_extension": ".py",
   "mimetype": "text/x-python",
   "name": "python",
   "nbconvert_exporter": "python",
   "pygments_lexer": "ipython3",
   "version": "3.8.8"
  },
  "orig_nbformat": 4,
  "vscode": {
   "interpreter": {
    "hash": "ad2bdc8ecc057115af97d19610ffacc2b4e99fae6737bb82f5d7fb13d2f2c186"
   }
  }
 },
 "nbformat": 4,
 "nbformat_minor": 2
}
