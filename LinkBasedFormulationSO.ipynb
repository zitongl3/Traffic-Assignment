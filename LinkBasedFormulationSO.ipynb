{
 "cells": [
  {
   "cell_type": "markdown",
   "metadata": {},
   "source": [
    "First, import numpy and scipy library."
   ]
  },
  {
   "cell_type": "code",
   "execution_count": 22,
   "metadata": {},
   "outputs": [],
   "source": [
    "import numpy as np\n",
    "import scipy.optimize as sopt"
   ]
  },
  {
   "cell_type": "markdown",
   "metadata": {},
   "source": [
    "Define the cost function $t(x)$ and $xt(x)$, which is the objective function of SO.\n",
    "list the time cost array of the flow from vertex 1 and 2 separately. "
   ]
  },
  {
   "cell_type": "code",
   "execution_count": 23,
   "metadata": {},
   "outputs": [],
   "source": [
    "def t(x):\n",
    "    x13, x23, x14, x24, x34_1, x34_2 = x\n",
    "    x34 = x34_1+x34_2\n",
    "    t13 = 0.5+0.001*x13\n",
    "    t23 = 0.5+0.001*x23\n",
    "    t14 = 1.0+0.0005*x14\n",
    "    t24 = 1.0+0.001*x24\n",
    "    t34 = 1.0+0.002*x34\n",
    "    t_array = [t13, t23, t14, t24, t34] \n",
    "    t_source_1 = [t14, t13+t34]\n",
    "    t_source_2 = [t24, t23+t34]\n",
    "    return t_array, t_source_1, t_source_2\n",
    "\n",
    "def sum_tilde_t(x):\n",
    "    x13, x23, x14, x24, x34_1, x34_2 = x\n",
    "    x34 = x34_1+x34_2\n",
    "    tilde_t13 = 0.5*x13+0.001*x13**2\n",
    "    tilde_t23 = 0.5*x23+0.001*x23**2\n",
    "    tilde_t14 = 1.0*x14+0.0005*x14**2\n",
    "    tilde_t24 = 1.0*x24+0.001*x24**2\n",
    "    tilde_t34 = 1.0*x34+0.002*x34**2\n",
    "    return tilde_t13 + tilde_t23 + tilde_t14 + tilde_t24 + tilde_t34\n",
    "\n",
    " # calculate next point based on step size alpha, current point x and direction y\n",
    "def cal_next_guess(alpha, x, y1, y2):\n",
    "    alpha1 = alpha[0]\n",
    "    alpha2 = alpha[1]\n",
    "    x13, x23, x14, x24, x34_1, x34_2 = x\n",
    "    y14 = y1[0]\n",
    "    y134 = y1[1]\n",
    "    y24 = y2[0]\n",
    "    y234 = y2[1]\n",
    "\n",
    "    x14 += alpha1*(y14-x14)\n",
    "    x13 += alpha1*(y134-x13)\n",
    "    x24 += alpha2*(y24-x24)\n",
    "    x23 += alpha2*(y234-x23)\n",
    "    x34_1 += alpha1*(y134-x34_1)\n",
    "    x34_2 += alpha2*(y234-x34_2)\n",
    "\n",
    "    next_point_x = [x13, x23, x14, x24, x34_1, x34_2]\n",
    "    return next_point_x"
   ]
  },
  {
   "cell_type": "markdown",
   "metadata": {},
   "source": [
    "Initialize the set of points as the list named guesses. Define the total flow in three routes. "
   ]
  },
  {
   "cell_type": "code",
   "execution_count": 24,
   "metadata": {},
   "outputs": [],
   "source": [
    "guesses = []\n",
    "total_demand_1 = 2000\n",
    "total_demand_2 = 1000"
   ]
  },
  {
   "cell_type": "markdown",
   "metadata": {},
   "source": [
    "Function $step$: contain task for one iteration.\n",
    "1. Define and calulate cost $t(x)$ and objective function $sum\\_tilde\\_t(x)$.\n",
    "2. Find drection $y$: Set the flow direction $y$ to the route with minimum cost. \n",
    "3. Find the step size $\\alpha \\in (0,1)$ \n",
    "    1. Define the objective function after moving as $func$.\n",
    "    2. Define the constraints $con$ to satisfy Total flow conservation and bound $\\alpha \\in (0,1)$.\n",
    "    3. Use $scipy.optimize.minimize$ tool to obtain the value of step size $\\alpha$.\n",
    "5. Update flow as $x^{n+1} = x^n + \\alpha * (y^n-x^n)$\n",
    "6. Do convergence test. If satisfy the convergence test, stop the iteration; if not, enter next iteration. \n"
   ]
  },
  {
   "cell_type": "code",
   "execution_count": 25,
   "metadata": {},
   "outputs": [],
   "source": [
    "def step(i):\n",
    "    print('in step',i+1)\n",
    "    \n",
    "    x = guesses[-1]\n",
    "\n",
    "    t_array, t_source_1, t_source_2 = t(x)\n",
    "    \n",
    "    Z = sum_tilde_t(x)\n",
    "    \n",
    "    print('\\tUpdate \\t\\tt\\t', np.round(t_array,decimals=3), '\\tZ(x)\\t', np.round(Z,decimals=2))\n",
    "    print('\\tUpdate \\t\\tt\\t', np.round(t_source_1,decimals=3), np.round(t_source_2,decimals=3))\n",
    "    \n",
    "    # find y1 with min t in from source 1 \n",
    "    # t_source_1 = [t14, t13+t34]\n",
    "    y1_index = np.argmin(t_source_1)\n",
    "    y1 = np.array([0.0, 0.0])\n",
    "    y1[y1_index] = total_demand_1\n",
    "    print('\\tDirection \\ty1\\t', np.round(y1,decimals=2))\n",
    "\n",
    "    # find y2 with min t in from source 2\n",
    "    # t_source_2 = [t24, t23+t34]\n",
    "    y2_index = np.argmin(t_source_2)\n",
    "    y2 = np.array([0.0, 0.0])\n",
    "    y2[y2_index] = total_demand_2\n",
    "    print('\\tDirection \\ty2\\t', np.round(y2,decimals=2))\n",
    "\n",
    "    # objective function to minimize\n",
    "    def func(alpha):\n",
    "        next_point_x = cal_next_guess(alpha,x,y1,y2)\n",
    "        return sum_tilde_t(next_point_x)\n",
    "\n",
    "    # constrain: sum of flow equals to total flow\n",
    "    # def con(alpha):\n",
    "    #     return np.sum(x+alpha*(y-x)) - tot_flow\n",
    "    \n",
    "    # cons = {'type':'eq', 'fun': con}\n",
    "    \n",
    "    # find alpha that minimize objective function\n",
    "    alpha = np.array([0.0, 0.0])\n",
    "    bounds = [(0,1) for i in range(2)]\n",
    "    res = sopt.minimize(func, alpha, bounds=bounds)\n",
    "    alpha = res.x\n",
    "    print('\\tStep \\t\\talpha\\t', np.round(alpha,decimals=3))\n",
    "\n",
    "    # update x\n",
    "    next_guess = cal_next_guess(alpha,x,y1,y2)\n",
    "    guesses.append(next_guess)\n",
    "    print('\\tMove \\t\\tx\\t', np.round(next_guess,decimals=3))\n",
    "    "
   ]
  },
  {
   "cell_type": "markdown",
   "metadata": {},
   "source": [
    "main function to solve the Frank Wolfe for SO problem. "
   ]
  },
  {
   "cell_type": "code",
   "execution_count": 26,
   "metadata": {},
   "outputs": [
    {
     "name": "stdout",
     "output_type": "stream",
     "text": [
      "Init Guesses\t\tx\t [   0    0 2000 1000    0    0]\n",
      "in step 1\n",
      "\tUpdate \t\tt\t [0.5 0.5 2.  2.  1. ] \tZ(x)\t 6000.0\n",
      "\tUpdate \t\tt\t [2.  1.5] [2.  1.5]\n",
      "\tDirection \ty1\t [   0. 2000.]\n",
      "\tDirection \ty2\t [   0. 1000.]\n",
      "\tStep \t\talpha\t [0.075 0.113]\n",
      "\tMove \t\tx\t [ 150.   112.5 1850.   887.5  150.   112.5]\n",
      "in step 2\n",
      "\tUpdate \t\tt\t [0.65  0.613 1.925 1.887 1.525] \tZ(x)\t 5803.12\n",
      "\tUpdate \t\tt\t [1.925 2.175] [1.887 2.137]\n",
      "\tDirection \ty1\t [2000.    0.]\n",
      "\tDirection \ty2\t [1000.    0.]\n",
      "\tStep \t\talpha\t [0. 0.]\n",
      "\tMove \t\tx\t [ 150.   112.5 1850.   887.5  150.   112.5]\n"
     ]
    }
   ],
   "source": [
    "if __name__ == '__main__':\n",
    "    # x13, x23, x14, x24, x34_1, x34_2 = x\n",
    "    guesses = [np.array([0, 0, 2000, 1000, 0, 0])]\n",
    "    print('Init Guesses\\t\\tx\\t',guesses[0])\n",
    "\n",
    "    for i in range(2):\n",
    "        step(i)\n",
    "    "
   ]
  }
 ],
 "metadata": {
  "kernelspec": {
   "display_name": "Python 3.8.8 ('base')",
   "language": "python",
   "name": "python3"
  },
  "language_info": {
   "codemirror_mode": {
    "name": "ipython",
    "version": 3
   },
   "file_extension": ".py",
   "mimetype": "text/x-python",
   "name": "python",
   "nbconvert_exporter": "python",
   "pygments_lexer": "ipython3",
   "version": "3.8.8"
  },
  "orig_nbformat": 4,
  "vscode": {
   "interpreter": {
    "hash": "ad2bdc8ecc057115af97d19610ffacc2b4e99fae6737bb82f5d7fb13d2f2c186"
   }
  }
 },
 "nbformat": 4,
 "nbformat_minor": 2
}
