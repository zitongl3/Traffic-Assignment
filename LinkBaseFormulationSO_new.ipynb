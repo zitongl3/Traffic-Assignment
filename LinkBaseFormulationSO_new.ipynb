{
 "cells": [
  {
   "cell_type": "code",
   "execution_count": 117,
   "metadata": {
    "collapsed": true
   },
   "outputs": [],
   "source": [
    "import networkx as nx\n",
    "import numpy as np\n",
    "import scipy.optimize as sopt"
   ]
  },
  {
   "cell_type": "markdown",
   "metadata": {},
   "source": [
    "Define the cost function $t(x)$ and its integration function, which is the objective function of UE.\n",
    "list the time cost array of the flow from vertex 1 and 2 separately. "
   ]
  },
  {
   "cell_type": "code",
   "execution_count": 118,
   "metadata": {},
   "outputs": [],
   "source": [
    "def t(x):\n",
    "    x13, x23, x14, x24, x34 = x\n",
    "    t13 = 0.5+0.001*x13\n",
    "    t23 = 0.5+0.001*x23\n",
    "    t14 = 1.0+0.0005*x14\n",
    "    t24 = 1.0+0.001*x24\n",
    "    t34 = 1.0+0.002*x34\n",
    "    t_array = [t13, t23, t14, t24, t34] \n",
    "    return t_array\n",
    "\n",
    "def sum_tilde_t(x):\n",
    "    x13, x23, x14, x24, x34 = x\n",
    "    tilde_t13 = 0.5*x13+0.001*x13**2\n",
    "    tilde_t23 = 0.5*x23+0.001*x23**2\n",
    "    tilde_t14 = 1.0*x14+0.0005*x14**2\n",
    "    tilde_t24 = 1.0*x24+0.001*x24**2\n",
    "    tilde_t34 = 1.0*x34+0.002*x34**2\n",
    "    return tilde_t13 + tilde_t23 + tilde_t14 + tilde_t24 + tilde_t34\n",
    "\n",
    " # calculate next point based on step size alpha, current point x and direction y\n",
    "def cal_next_guess(alpha, x, y):\n",
    "    next_point_x = x + alpha*(y-x)\n",
    "    return next_point_x"
   ]
  },
  {
   "cell_type": "markdown",
   "metadata": {},
   "source": [
    "Next we initialize an empty Graph object. "
   ]
  },
  {
   "cell_type": "code",
   "execution_count": 119,
   "metadata": {},
   "outputs": [],
   "source": [
    "guesses = [np.array([0, 0, 2000, 1000, 0])]\n",
    "total_demand_1 = 2000\n",
    "total_demand_2 = 1000"
   ]
  },
  {
   "cell_type": "code",
   "execution_count": 120,
   "metadata": {
    "collapsed": true
   },
   "outputs": [],
   "source": [
    "def create_graph(weight):\n",
    "    # The following line initializes two empty directed graph objects\n",
    "    G=nx.DiGraph()\n",
    "    G.add_node(1, demand = -total_demand_1)  # source node 1\n",
    "    G.add_node(2, demand = -total_demand_2)  # source node 2\n",
    "    G.add_node(3, demand = 0)\n",
    "    G.add_node(4, demand = total_demand_1+total_demand_2)    # sink node 4\n",
    "    \n",
    "    # t_array = [t13, t23, t14, t24, t34] \n",
    "    G.add_edge(1, 3, weight = weight[0])\n",
    "    G.add_edge(2, 3, weight = weight[1])\n",
    "    G.add_edge(1, 4, weight = weight[2])\n",
    "    G.add_edge(2, 4, weight = weight[3])\n",
    "    G.add_edge(3, 4, weight = weight[4])\n",
    "    \n",
    "    return G\n",
    "    # print(G1.edges())\n",
    "    # print(G1.nodes())\n",
    "    # print(list(G1.nodes.data()))"
   ]
  },
  {
   "cell_type": "markdown",
   "metadata": {},
   "source": [
    "Let us now add the arcs. As with nodes, there are multiple ways to add the arcs."
   ]
  },
  {
   "cell_type": "code",
   "execution_count": 121,
   "metadata": {},
   "outputs": [],
   "source": [
    "def print_graph_edge(G: nx.DiGraph):\n",
    "    for node, nodedata in G.nodes.data():\n",
    "        print('node:', node, 'demand:', nodedata['demand'])\n",
    "        print('\\tin_edge:')\n",
    "        for in_edge in G.in_edges(node):\n",
    "            weight = G.get_edge_data(in_edge[0],in_edge[1])['weight']\n",
    "            cost = G.get_edge_data(in_edge[0],in_edge[1])['cost']\n",
    "            print('\\tedge:',in_edge, ' weight:', weight, 'cost:', cost)\n",
    "        print('\\tout_edge:')\n",
    "        for out_edge in G.out_edges(node):\n",
    "            weight = G.get_edge_data(out_edge[0],out_edge[1])['weight']\n",
    "            cost = G.get_edge_data(out_edge[0],out_edge[1])['cost']\n",
    "            print('\\tedge:',out_edge, ' weight:', weight, 'cost:', cost)\n",
    "    # print_graph_edge(G)"
   ]
  },
  {
   "cell_type": "markdown",
   "metadata": {},
   "source": [
    "## Shortest Path\n",
    "\n",
    "Let us now determine the shortest path using Djikstras algorithm. The function shown below returns a list which stores the shortest path from source to target."
   ]
  },
  {
   "cell_type": "code",
   "execution_count": 122,
   "metadata": {
    "collapsed": false
   },
   "outputs": [],
   "source": [
    "# sp_source_1 = nx.dijkstra_path(G1,source = 1, target = 4, weight='cost')\n",
    "# sp_source_2 = nx.dijkstra_path(G1,source = 2, target = 4, weight='cost')\n",
    "# print('shortest path from source 1 to target 4:',sp_source_1)\n",
    "# print('shortest path from source 2 to target 4:',sp_source_2)"
   ]
  },
  {
   "cell_type": "code",
   "execution_count": 123,
   "metadata": {},
   "outputs": [],
   "source": [
    "def find_y(sp_source_1, sp_source_2, num_edg=5):\n",
    "    y = np.array([0.0 for _ in range(num_edg)]) # x13, x23, x14, x24, x34\n",
    "    if len(sp_source_1) == 2:   # 1-4\n",
    "        y[2] += total_demand_1\n",
    "    elif len(sp_source_1) == 3: # 1-3-4\n",
    "        y[0] += total_demand_1\n",
    "        y[4] += total_demand_1\n",
    "    \n",
    "    if len(sp_source_2) == 2:   # 2-4\n",
    "        y[3] += total_demand_2\n",
    "    elif len(sp_source_2) == 3: # 2-3-4\n",
    "        y[1] += total_demand_2\n",
    "        y[4] += total_demand_2\n",
    "    \n",
    "    return y"
   ]
  },
  {
   "cell_type": "markdown",
   "metadata": {},
   "source": [
    "Function $step$: contain task for one iteration.\n",
    "1. Define and calulate cost $t(x)$ and objective function $sum\\_int\\_t(x)$.\n",
    "2. Find drection $y$: Set the flow direction $y$ to the route with minimum cost. \n",
    "3. Find the step size $\\alpha \\in (0,1)$ \n",
    "    1. Define the objective function after moving as $func$.\n",
    "    2. Define the constraints $con$ to satisfy Total flow conservation and bound $\\alpha \\in (0,1)$.\n",
    "    3. Use $scipy.optimize.minimize$ tool to obtain the value of step size $\\alpha$.\n",
    "5. Update flow as $x^{n+1} = x^n + \\alpha * (y^n-x^n)$\n",
    "6. Do convergence test. If satisfy the convergence test, stop the iteration; if not, enter next iteration. \n"
   ]
  },
  {
   "cell_type": "code",
   "execution_count": 127,
   "metadata": {},
   "outputs": [],
   "source": [
    "def step(i, guesses):\n",
    "    print('in step',i+1)\n",
    "    \n",
    "    x = guesses[-1] # x13, x23, x14, x24, x34\n",
    "    t_array = t(x)  # [t13, t23, t14, t24, t34] \n",
    "    \n",
    "    # create a graph\n",
    "    G = create_graph(weight=t_array)\n",
    "    Z = sum_tilde_t(x)\n",
    "    \n",
    "    print('\\tUpdate \\t\\tt\\t', np.round(t_array,decimals=3), '\\tZ(x) =', np.round(Z,decimals=2))\n",
    "    \n",
    "    # find y with min t in from source 1 and 2\n",
    "    sp_source_1 = nx.dijkstra_path(G,source = 1, target = 4, weight='weight')\n",
    "    sp_source_2 = nx.dijkstra_path(G,source = 2, target = 4, weight='weight')\n",
    "    print('\\tShortest path for source 1:', sp_source_1)\n",
    "    print('\\tShortest path for source 2:', sp_source_2)\n",
    "\n",
    "    y = find_y(sp_source_1, sp_source_2, num_edg=len(x))\n",
    "    print('\\tDirection \\ty\\t', np.round(y,decimals=2))\n",
    "\n",
    "    # objective function to minimize\n",
    "    def func(alpha):\n",
    "        next_point_x = cal_next_guess(alpha,x,y)\n",
    "        return sum_tilde_t(next_point_x)\n",
    "    \n",
    "    # find alpha that minimize objective function\n",
    "    alpha = np.array([0.0])\n",
    "    bound = [(0,1)]\n",
    "    res = sopt.minimize(func, alpha, bounds=bound)\n",
    "    alpha = res.x\n",
    "    if res.success == False:\n",
    "        print('\\tOptimization False')\n",
    "        print('\\t',res.message)\n",
    "        return False\n",
    "        \n",
    "    print('\\tStep \\t\\talpha\\t', np.round(alpha,decimals=3))\n",
    "\n",
    "    # update x\n",
    "    next_guess = cal_next_guess(alpha,x,y)\n",
    "    guesses.append(next_guess)\n",
    "    print('\\tMove \\t\\tx\\t', np.round(next_guess,decimals=3))\n",
    "    return True\n",
    "    "
   ]
  },
  {
   "cell_type": "code",
   "execution_count": 128,
   "metadata": {},
   "outputs": [
    {
     "name": "stdout",
     "output_type": "stream",
     "text": [
      "Init Guesses\t\tx\t [   0    0 2000 1000    0]\n",
      "in step 1\n",
      "\tUpdate \t\tt\t [0.5 0.5 2.  2.  1. ] \tZ(x)= 6000.0\n",
      "\tShortest path for source 1: [1, 3, 4]\n",
      "\tShortest path for source 2: [2, 3, 4]\n",
      "\tDirection \ty\t [2000. 1000.    0.    0. 3000.]\n",
      "\tStep \t\talpha\t [0.087]\n",
      "\tMove \t\tx\t [ 173.077   86.538 1826.923  913.462  259.615]\n",
      "in step 2\n",
      "\tUpdate \t\tt\t [0.673 0.587 1.913 1.913 1.519] \tZ(x)= 5805.29\n",
      "\tShortest path for source 1: [1, 4]\n",
      "\tShortest path for source 2: [2, 4]\n",
      "\tDirection \ty\t [   0.    0. 2000. 1000.    0.]\n",
      "\tStep \t\talpha\t [0.]\n",
      "\tMove \t\tx\t [ 173.077   86.538 1826.923  913.462  259.615]\n",
      "in step 3\n",
      "\tUpdate \t\tt\t [0.673 0.587 1.913 1.913 1.519] \tZ(x)= 5805.29\n",
      "\tShortest path for source 1: [1, 4]\n",
      "\tShortest path for source 2: [2, 4]\n",
      "\tDirection \ty\t [   0.    0. 2000. 1000.    0.]\n",
      "\tStep \t\talpha\t [0.]\n",
      "\tMove \t\tx\t [ 173.077   86.538 1826.923  913.462  259.615]\n",
      "in step 4\n",
      "\tUpdate \t\tt\t [0.673 0.587 1.913 1.913 1.519] \tZ(x)= 5805.29\n",
      "\tShortest path for source 1: [1, 4]\n",
      "\tShortest path for source 2: [2, 4]\n",
      "\tDirection \ty\t [   0.    0. 2000. 1000.    0.]\n",
      "\tStep \t\talpha\t [0.]\n",
      "\tMove \t\tx\t [ 173.077   86.538 1826.923  913.462  259.615]\n"
     ]
    }
   ],
   "source": [
    "if __name__ == '__main__':\n",
    "    # x13, x23, x14, x24, x34 = x\n",
    "    guesses = [np.array([0, 0, 2000, 1000, 0])]\n",
    "    print('Init Guesses\\t\\tx\\t',guesses[0])\n",
    "\n",
    "    for i in range(4):\n",
    "        res = step(i, guesses)\n",
    "        if res == False:\n",
    "            break\n",
    "    "
   ]
  }
 ],
 "metadata": {
  "anaconda-cloud": {},
  "kernelspec": {
   "display_name": "Python 3.7.4 ('base')",
   "language": "python",
   "name": "python3"
  },
  "language_info": {
   "codemirror_mode": {
    "name": "ipython",
    "version": 3
   },
   "file_extension": ".py",
   "mimetype": "text/x-python",
   "name": "python",
   "nbconvert_exporter": "python",
   "pygments_lexer": "ipython3",
   "version": "3.7.4"
  },
  "vscode": {
   "interpreter": {
    "hash": "7b34b089ce0dfc9935940e0a22050b2949fa617f7a2b73925623c261bed16aeb"
   }
  }
 },
 "nbformat": 4,
 "nbformat_minor": 1
}
